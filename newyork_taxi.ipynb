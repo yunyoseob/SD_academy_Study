{
  "nbformat": 4,
  "nbformat_minor": 0,
  "metadata": {
    "colab": {
      "name": "newyork_taxi.ipynb",
      "provenance": [],
      "collapsed_sections": [],
      "machine_shape": "hm",
      "mount_file_id": "1_Kffak1SvBKYPFtT6Rc7rtjByO-eDuqO",
      "authorship_tag": "ABX9TyNkHljGmkHUFTpqPoOLzx69",
      "include_colab_link": true
    },
    "kernelspec": {
      "name": "python3",
      "display_name": "Python 3"
    },
    "language_info": {
      "name": "python"
    },
    "accelerator": "TPU"
  },
  "cells": [
    {
      "cell_type": "markdown",
      "metadata": {
        "id": "view-in-github",
        "colab_type": "text"
      },
      "source": [
        "<a href=\"https://colab.research.google.com/github/yunyoseob/github_test/blob/master/newyork_taxi.ipynb\" target=\"_parent\"><img src=\"https://colab.research.google.com/assets/colab-badge.svg\" alt=\"Open In Colab\"/></a>"
      ]
    },
    {
      "cell_type": "code",
      "metadata": {
        "id": "L2CA2wEgBYJX"
      },
      "source": [
        "from google.colab import files\n",
        "files.upload()"
      ],
      "execution_count": null,
      "outputs": []
    },
    {
      "cell_type": "code",
      "metadata": {
        "id": "ty1LjQqvBY3B"
      },
      "source": [
        "import io\n",
        "import pandas as pd\n",
        "import numpy as np\n",
        "import matplotlib as plt\n",
        "import matplotlib.pyplot as plt\n",
        "import warnings\n",
        "warnings.filterwarnings('ignore')\n",
        "\n",
        "train=pd.read_csv('train.csv', parse_dates=['pickup_datetime','dropoff_datetime'])\n",
        "test=pd.read_csv('test.csv', parse_dates=['pickup_datetime'])\n",
        "sample_submission=pd.read_csv('sample_submission.csv')"
      ],
      "execution_count": null,
      "outputs": []
    },
    {
      "cell_type": "code",
      "metadata": {
        "id": "-WIPfENK2xlz"
      },
      "source": [
        "df_train=pd.DataFrame(train)\n",
        "df_test=pd.DataFrame(test) \n",
        "df_sample_submission=pd.DataFrame(sample_submission)"
      ],
      "execution_count": null,
      "outputs": []
    },
    {
      "cell_type": "code",
      "metadata": {
        "id": "YVfIl33b2xoQ"
      },
      "source": [
        "fb_train=df_train.groupby(['id','pickup_datetime'])['trip_duration'].sum().reset_index()"
      ],
      "execution_count": null,
      "outputs": []
    },
    {
      "cell_type": "code",
      "metadata": {
        "id": "9mZwmP9N2xrA"
      },
      "source": [
        "fb_train['ds']=fb_train['pickup_datetime']\n",
        "fb_train['y']=fb_train['trip_duration']\n",
        "fb_train.drop(['pickup_datetime','trip_duration'], axis=1, inplace=True)"
      ],
      "execution_count": null,
      "outputs": []
    },
    {
      "cell_type": "code",
      "metadata": {
        "id": "lsg1YzfbO3lQ"
      },
      "source": [
        "fb_test=df_test.drop(['vendor_id','passenger_count', 'pickup_longitude', 'pickup_latitude', 'dropoff_longitude',\n",
        "       'dropoff_latitude', 'store_and_fwd_flag', 'ds'], axis=1)\n",
        "fb_test['ds']=fb_test['pickup_datetime']\n",
        "fb_test.drop(['pickup_datetime'], axis=1, inplace=True)"
      ],
      "execution_count": null,
      "outputs": []
    },
    {
      "cell_type": "markdown",
      "metadata": {
        "id": "YU6BhnZQ57IH"
      },
      "source": [
        "Prophet 모델 적용\n",
        "--"
      ]
    },
    {
      "cell_type": "code",
      "metadata": {
        "id": "dSfA8ZM32xtl"
      },
      "source": [
        "from fbprophet import Prophet"
      ],
      "execution_count": null,
      "outputs": []
    },
    {
      "cell_type": "code",
      "metadata": {
        "id": "ax0mKJMu2xwA"
      },
      "source": [
        "model=Prophet()\n",
        "model.fit(fb_train)\n",
        "forecast=model.predict(fb_test)"
      ],
      "execution_count": null,
      "outputs": []
    },
    {
      "cell_type": "code",
      "metadata": {
        "id": "-jtmqORuP4Tt"
      },
      "source": [
        "forecast=forecast.sort_values(by='ds', ascending=False)"
      ],
      "execution_count": null,
      "outputs": []
    },
    {
      "cell_type": "code",
      "metadata": {
        "id": "1GAhaMHf2x6k"
      },
      "source": [
        "pred=forecast['yhat']"
      ],
      "execution_count": null,
      "outputs": []
    },
    {
      "cell_type": "code",
      "metadata": {
        "colab": {
          "base_uri": "https://localhost:8080/"
        },
        "id": "ESV7FGeh2x9i",
        "outputId": "49c740ec-0853-4749-d85d-2d6bf6b0235e"
      },
      "source": [
        "submission_t1 = df_sample_submission['id']\n",
        "submission_t1 = {\"id\":df_sample_submission[\"id\"],\"trip_duration\":pred}\n",
        "submission_t1 = pd.DataFrame(submission_t1)\n",
        "submission_t1.info()"
      ],
      "execution_count": null,
      "outputs": [
        {
          "output_type": "stream",
          "text": [
            "<class 'pandas.core.frame.DataFrame'>\n",
            "Int64Index: 625134 entries, 0 to 625133\n",
            "Data columns (total 2 columns):\n",
            " #   Column         Non-Null Count   Dtype  \n",
            "---  ------         --------------   -----  \n",
            " 0   id             625134 non-null  object \n",
            " 1   trip_duration  625134 non-null  float64\n",
            "dtypes: float64(1), object(1)\n",
            "memory usage: 14.3+ MB\n"
          ],
          "name": "stdout"
        }
      ]
    },
    {
      "cell_type": "code",
      "metadata": {
        "colab": {
          "base_uri": "https://localhost:8080/",
          "height": 407
        },
        "id": "9Pn8r35u2yAa",
        "outputId": "670dcfb0-e07b-4e3f-84ff-7c85462e5a17"
      },
      "source": [
        "submission_t1"
      ],
      "execution_count": null,
      "outputs": [
        {
          "output_type": "execute_result",
          "data": {
            "text/html": [
              "<div>\n",
              "<style scoped>\n",
              "    .dataframe tbody tr th:only-of-type {\n",
              "        vertical-align: middle;\n",
              "    }\n",
              "\n",
              "    .dataframe tbody tr th {\n",
              "        vertical-align: top;\n",
              "    }\n",
              "\n",
              "    .dataframe thead th {\n",
              "        text-align: right;\n",
              "    }\n",
              "</style>\n",
              "<table border=\"1\" class=\"dataframe\">\n",
              "  <thead>\n",
              "    <tr style=\"text-align: right;\">\n",
              "      <th></th>\n",
              "      <th>id</th>\n",
              "      <th>trip_duration</th>\n",
              "    </tr>\n",
              "  </thead>\n",
              "  <tbody>\n",
              "    <tr>\n",
              "      <th>0</th>\n",
              "      <td>id3004672</td>\n",
              "      <td>881.212694</td>\n",
              "    </tr>\n",
              "    <tr>\n",
              "      <th>1</th>\n",
              "      <td>id3505355</td>\n",
              "      <td>881.178922</td>\n",
              "    </tr>\n",
              "    <tr>\n",
              "      <th>2</th>\n",
              "      <td>id1217141</td>\n",
              "      <td>880.861444</td>\n",
              "    </tr>\n",
              "    <tr>\n",
              "      <th>3</th>\n",
              "      <td>id2150126</td>\n",
              "      <td>880.701179</td>\n",
              "    </tr>\n",
              "    <tr>\n",
              "      <th>4</th>\n",
              "      <td>id1598245</td>\n",
              "      <td>880.354395</td>\n",
              "    </tr>\n",
              "    <tr>\n",
              "      <th>...</th>\n",
              "      <td>...</td>\n",
              "      <td>...</td>\n",
              "    </tr>\n",
              "    <tr>\n",
              "      <th>625129</th>\n",
              "      <td>id3008929</td>\n",
              "      <td>1049.889477</td>\n",
              "    </tr>\n",
              "    <tr>\n",
              "      <th>625130</th>\n",
              "      <td>id3700764</td>\n",
              "      <td>1049.844246</td>\n",
              "    </tr>\n",
              "    <tr>\n",
              "      <th>625131</th>\n",
              "      <td>id2568735</td>\n",
              "      <td>1049.810266</td>\n",
              "    </tr>\n",
              "    <tr>\n",
              "      <th>625132</th>\n",
              "      <td>id1384355</td>\n",
              "      <td>1049.776238</td>\n",
              "    </tr>\n",
              "    <tr>\n",
              "      <th>625133</th>\n",
              "      <td>id0621643</td>\n",
              "      <td>1049.747845</td>\n",
              "    </tr>\n",
              "  </tbody>\n",
              "</table>\n",
              "<p>625134 rows × 2 columns</p>\n",
              "</div>"
            ],
            "text/plain": [
              "               id  trip_duration\n",
              "0       id3004672     881.212694\n",
              "1       id3505355     881.178922\n",
              "2       id1217141     880.861444\n",
              "3       id2150126     880.701179\n",
              "4       id1598245     880.354395\n",
              "...           ...            ...\n",
              "625129  id3008929    1049.889477\n",
              "625130  id3700764    1049.844246\n",
              "625131  id2568735    1049.810266\n",
              "625132  id1384355    1049.776238\n",
              "625133  id0621643    1049.747845\n",
              "\n",
              "[625134 rows x 2 columns]"
            ]
          },
          "metadata": {
            "tags": []
          },
          "execution_count": 54
        }
      ]
    },
    {
      "cell_type": "code",
      "metadata": {
        "id": "AUOFilAgRkFr"
      },
      "source": [
        "submission_t1.to_csv('submission_t1.csv', index=False)"
      ],
      "execution_count": null,
      "outputs": []
    }
  ]
}